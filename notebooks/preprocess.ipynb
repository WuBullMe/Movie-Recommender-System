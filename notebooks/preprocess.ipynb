{
 "cells": [
  {
   "cell_type": "code",
   "execution_count": 1,
   "id": "018d34e6-855c-4f7d-9426-cb8c78258df5",
   "metadata": {},
   "outputs": [],
   "source": [
    "import pandas as pd\n",
    "import numpy as np"
   ]
  },
  {
   "cell_type": "markdown",
   "id": "f3ab2c6e-aa1b-46d2-b3b8-cf70d02384be",
   "metadata": {},
   "source": [
    "# Read data"
   ]
  },
  {
   "cell_type": "code",
   "execution_count": 2,
   "id": "dc6b4de5-0ee8-4bcf-acb8-6b9eff66f04a",
   "metadata": {},
   "outputs": [],
   "source": [
    "train_data = pd.read_csv(\"data/raw/ml-100k/u1.base\", sep=\"\\t\", header=None, names=[\"user_id\", \"item_id\", \"rating\", \"timestamp\"])\n",
    "test_data = pd.read_csv(\"data/raw/ml-100k/u1.test\", sep=\"\\t\", header=None, names=[\"user_id\", \"item_id\", \"rating\", \"timestamp\"])\n",
    "all_data = pd.read_csv(\"data/raw/ml-100k/u.data\", sep=\"\\t\", header=None, names=[\"user_id\", \"item_id\", \"rating\", \"timestamp\"])\n",
    "\n",
    "\n",
    "movies = pd.read_csv(\"data/raw/ml-100k/u.item\", sep=\"|\", header=None, encoding='latin-1')\n",
    "movies.columns = [\"movie id\", \"movie title\", \"release date\", \"video release date\", \"IMDb URL\", \"unknown\", \"Action\", \"Adventure\", \"Animation\", \"Children's\", \"Comedy\", \"Crime\", \"Documentary\", \"Drama\", \"Fantasy\", \"Film-Noir\", \"Horror\", \"Musical\", \"Mystery\", \"Romance\", \"Sci-Fi\", \"Thriller\", \"War\", \"Western\"]\n",
    "\n",
    "\n",
    "users = pd.read_csv(\"data/raw/ml-100k/u.user\", sep=\"|\", header=None, names=[\"user_id\", \"age\", \"gender\", \"occupation\", \"zip_code\"])"
   ]
  },
  {
   "cell_type": "markdown",
   "id": "08f44c9a-055c-46a0-a496-ec3a2654deca",
   "metadata": {},
   "source": [
    "# Save to csv"
   ]
  },
  {
   "cell_type": "code",
   "execution_count": 3,
   "id": "aeec4d79-4bac-4ba7-b1fc-818513d85f0d",
   "metadata": {},
   "outputs": [],
   "source": [
    "train_data.to_csv(\"data/interim/train_data_row.csv\")\n",
    "test_data.to_csv(\"data/interim/test_data_row.csv\")\n",
    "all_data.to_csv(\"data/interim/data.csv\")\n",
    "movies.to_csv(\"data/interim/movies.csv\")\n",
    "users.to_csv(\"data/interim/users.csv\")"
   ]
  },
  {
   "cell_type": "code",
   "execution_count": 4,
   "id": "b54dea5c-1a60-46a5-9f6b-580742e08c39",
   "metadata": {},
   "outputs": [
    {
     "name": "stdout",
     "output_type": "stream",
     "text": [
      "Rating Distribution\n"
     ]
    },
    {
     "data": {
      "text/plain": [
       "rating\n",
       "1     4719\n",
       "2     9178\n",
       "3    21963\n",
       "4    27396\n",
       "5    16744\n",
       "Name: rating, dtype: int64"
      ]
     },
     "execution_count": 4,
     "metadata": {},
     "output_type": "execute_result"
    }
   ],
   "source": [
    "# What's the distribution of highly rated movies?\n",
    "print(\"Rating Distribution\")\n",
    "train_data.groupby(['rating'])['rating'].count()"
   ]
  },
  {
   "cell_type": "markdown",
   "id": "52a1c85f-2f94-46cf-8f93-af07d26f4a83",
   "metadata": {},
   "source": [
    "# Prepare data \n",
    "## Combine user info, movie info, rating"
   ]
  },
  {
   "cell_type": "code",
   "execution_count": 5,
   "id": "948b0b7c-c6b5-4f0f-942b-19402e2b7edc",
   "metadata": {},
   "outputs": [],
   "source": [
    "from tqdm import tqdm\n",
    "\n",
    "def prepare_data(data, user_data, movie_data):\n",
    "    src_data = []\n",
    "    trg_data = []\n",
    "    \n",
    "    urs_len = len(user_data)\n",
    "    mov_len = len(movie_data)\n",
    "    \n",
    "    skip_mov = [\"movie title\", \"release date\", \"video release date\", \"IMDb URL\", \"zip_code\"]\n",
    "    \n",
    "    for row in tqdm(data.iterrows()):\n",
    "        user_id = row[1]['user_id']\n",
    "        movie_id = row[1]['item_id']\n",
    "        rating = row[1]['rating']\n",
    "        \n",
    "        user_row = user_data.loc[user_id - 1] # index start 0\n",
    "        movie_row = movie_data.loc[movie_id - 1]\n",
    "        \n",
    "        assert user_row['user_id'] == user_id, \"user id must be the same, but found\"\n",
    "        assert movie_row['movie id'] == movie_id, \"movie id must be the same\"\n",
    "        \n",
    "        src_row = []\n",
    "        for col in user_row.index.tolist():\n",
    "            if col in skip_mov:\n",
    "                continue\n",
    "            src_row.append(user_row[col])\n",
    "        \n",
    "        for col in movie_row.index.tolist():\n",
    "            if col in skip_mov:\n",
    "                continue\n",
    "            \n",
    "            src_row.append(movie_row[col])\n",
    "        \n",
    "        src_data.append(src_row)\n",
    "        trg_data.append(rating)\n",
    "    \n",
    "    return src_data, trg_data"
   ]
  },
  {
   "cell_type": "code",
   "execution_count": 6,
   "id": "9c501817-cd66-4271-bf5a-1fe0be04d89c",
   "metadata": {},
   "outputs": [
    {
     "name": "stderr",
     "output_type": "stream",
     "text": [
      "80000it [00:15, 5079.30it/s]\n"
     ]
    }
   ],
   "source": [
    "src_d, trg_d = prepare_data(train_data, users, movies)\n",
    "data_columns = []\n",
    "skip_mov = [\"movie title\", \"release date\", \"video release date\", \"IMDb URL\", \"zip_code\"]\n",
    "for col in users.columns:\n",
    "    if col in skip_mov:\n",
    "        continue\n",
    "    data_columns.append(col)\n",
    "\n",
    "for col in movies.columns:\n",
    "    if col in skip_mov:\n",
    "        continue\n",
    "    data_columns.append(col)\n",
    "\n",
    "data = pd.DataFrame(src_d, columns=data_columns)\n",
    "data['rating'] = trg_d"
   ]
  },
  {
   "cell_type": "code",
   "execution_count": 7,
   "id": "256992ca-a5f2-4e81-8e13-825966be6148",
   "metadata": {},
   "outputs": [],
   "source": [
    "data.to_csv(\"data/interim/train_data.csv\")"
   ]
  },
  {
   "cell_type": "code",
   "execution_count": 8,
   "id": "2c7bc4a2-f8f6-4983-81a0-88586be11d45",
   "metadata": {},
   "outputs": [
    {
     "name": "stderr",
     "output_type": "stream",
     "text": [
      "20000it [00:04, 4483.40it/s]\n"
     ]
    }
   ],
   "source": [
    "src_d, trg_d = prepare_data(test_data, users, movies)\n",
    "data_columns = []\n",
    "skip_mov = [\"movie title\", \"release date\", \"video release date\", \"IMDb URL\", \"zip_code\"]\n",
    "for col in users.columns:\n",
    "    if col in skip_mov:\n",
    "        continue\n",
    "    data_columns.append(col)\n",
    "\n",
    "for col in movies.columns:\n",
    "    if col in skip_mov:\n",
    "        continue\n",
    "    data_columns.append(col)\n",
    "\n",
    "data = pd.DataFrame(src_d, columns=data_columns)\n",
    "data['rating'] = trg_d"
   ]
  },
  {
   "cell_type": "code",
   "execution_count": 9,
   "id": "203fe090-2afc-4302-875c-3a376263880b",
   "metadata": {},
   "outputs": [],
   "source": [
    "data.to_csv(\"data/interim/test_data.csv\")"
   ]
  }
 ],
 "metadata": {
  "kernelspec": {
   "display_name": "Python 3 (ipykernel)",
   "language": "python",
   "name": "python3"
  },
  "language_info": {
   "codemirror_mode": {
    "name": "ipython",
    "version": 3
   },
   "file_extension": ".py",
   "mimetype": "text/x-python",
   "name": "python",
   "nbconvert_exporter": "python",
   "pygments_lexer": "ipython3",
   "version": "3.9.16"
  }
 },
 "nbformat": 4,
 "nbformat_minor": 5
}
