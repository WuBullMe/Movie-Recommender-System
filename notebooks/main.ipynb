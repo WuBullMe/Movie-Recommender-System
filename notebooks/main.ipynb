{
 "cells": [
  {
   "cell_type": "code",
   "execution_count": 133,
   "id": "68a00b9f-1269-41b7-99a4-2d49544b8f7c",
   "metadata": {},
   "outputs": [],
   "source": [
    "import pandas as pd\n",
    "import numpy as np\n",
    "\n",
    "import pandas as pd\n",
    "import torch\n",
    "import torch.nn as nn\n",
    "from torch import optim\n",
    "from torch.utils.data import Dataset, DataLoader\n",
    "from torchtext.vocab import build_vocab_from_iterator\n",
    "\n",
    "device = torch.device(\"cuda\" if torch.cuda.is_available() else \"cpu\")"
   ]
  },
  {
   "cell_type": "markdown",
   "id": "2d4a2384-98ae-4046-9247-2a19e7c11321",
   "metadata": {},
   "source": [
    "# Read Data"
   ]
  },
  {
   "cell_type": "code",
   "execution_count": 2,
   "id": "f8c12e2b-8df7-40bf-8062-cd3d89d8f1b1",
   "metadata": {},
   "outputs": [],
   "source": [
    "data = pd.read_csv(\"data/interim/data.csv\", index_col=0)\n",
    "train_data = pd.read_csv(\"data/interim/train_data.csv\", index_col=0)\n",
    "val_data = pd.read_csv(\"data/interim/test_data.csv\", index_col=0)\n",
    "user_data = pd.read_csv(\"data/interim/users.csv\", index_col=0)\n",
    "movie_data = pd.read_csv(\"data/interim/movies.csv\", index_col=0)"
   ]
  },
  {
   "cell_type": "markdown",
   "id": "c995bd5c-59f4-411b-aaa2-3dfb762dc635",
   "metadata": {},
   "source": [
    "# Prepare Data"
   ]
  },
  {
   "cell_type": "code",
   "execution_count": 122,
   "id": "c2c34305-3a8d-479f-a257-d8727522bb8c",
   "metadata": {},
   "outputs": [],
   "source": [
    "from src.data.make_dataset import Vocabulary, one_hot, preprocess, RecDataset, _preprocess"
   ]
  },
  {
   "cell_type": "code",
   "execution_count": 52,
   "id": "8c00579e-6f05-430d-8283-0eaaf538f3b6",
   "metadata": {},
   "outputs": [],
   "source": [
    "vocab = Vocabulary(\"recSystem\")"
   ]
  },
  {
   "cell_type": "code",
   "execution_count": 53,
   "id": "447a13b7-bfbb-4878-96d0-697dc1a86a0e",
   "metadata": {},
   "outputs": [],
   "source": [
    "vocab.addColumn(user_data, 'occupation')\n",
    "vocab.addColumn(user_data, 'gender')"
   ]
  },
  {
   "cell_type": "markdown",
   "id": "d6dad2fc-2805-419f-895e-dee931968502",
   "metadata": {},
   "source": [
    "# Define models"
   ]
  },
  {
   "cell_type": "code",
   "execution_count": 121,
   "id": "402b3cec-3767-46d1-b385-4ffe248c4982",
   "metadata": {},
   "outputs": [],
   "source": [
    "from src.models.model import RecommendationSys"
   ]
  },
  {
   "cell_type": "markdown",
   "id": "1d37c256-96ca-4dd4-bcea-50d9845dc9c9",
   "metadata": {},
   "source": [
    "# Train model"
   ]
  },
  {
   "cell_type": "code",
   "execution_count": 9,
   "id": "566361e4-fd53-49aa-94e1-297895aced0d",
   "metadata": {},
   "outputs": [],
   "source": [
    "from src.models.train import train"
   ]
  },
  {
   "cell_type": "code",
   "execution_count": 76,
   "id": "6b83a555-40b0-4361-a722-aab12b05e49e",
   "metadata": {},
   "outputs": [],
   "source": [
    "train_dataset = RecDataset(train_data, vocab, device=device)\n",
    "val_dataset = RecDataset(val_data, vocab, device=device)"
   ]
  },
  {
   "cell_type": "code",
   "execution_count": 77,
   "id": "617082be-b472-4cb3-809f-13591120bf02",
   "metadata": {},
   "outputs": [],
   "source": [
    "epochs = 20\n",
    "batch_size = 64\n",
    "input_dim = len(train_dataset.data.columns) - 1\n",
    "hidden_dim = 256\n",
    "output_dim = 1\n",
    "vocab_size = vocab.n_words\n",
    "embed_size = 128\n",
    "start_epoch = 1\n",
    "size_user = len(user_data) + 1\n",
    "size_movie = len(movie_data) + 1\n",
    "lr = 1e-3\n",
    "model_path = \"recSys.pt\"\n",
    "\n",
    "train_dataloader = DataLoader(\n",
    "    train_dataset,\n",
    "    batch_size=batch_size,\n",
    "    shuffle=True,\n",
    ")\n",
    "val_dataloader = DataLoader(\n",
    "    val_dataset,\n",
    "    batch_size=batch_size,\n",
    "    shuffle=False,\n",
    ")"
   ]
  },
  {
   "cell_type": "code",
   "execution_count": 82,
   "id": "17d8c1a0-20a4-4aa8-b7eb-deeb54e7ca87",
   "metadata": {},
   "outputs": [
    {
     "name": "stdout",
     "output_type": "stream",
     "text": [
      "446.593k parameters\n"
     ]
    },
    {
     "name": "stderr",
     "output_type": "stream",
     "text": [
      "Epoch 1: train: 100%|██████████| 1250/1250 [00:23<00:00, 53.68it/s, loss=1.43]\n",
      "Epoch 1: val: 100%|██████████| 313/313 [00:05<00:00, 58.25it/s, loss=1.1] \n",
      "Epoch 2: train: 100%|██████████| 1250/1250 [00:23<00:00, 53.61it/s, loss=0.963]\n",
      "Epoch 2: val: 100%|██████████| 313/313 [00:05<00:00, 57.99it/s, loss=0.974]\n",
      "Epoch 3: train: 100%|██████████| 1250/1250 [00:23<00:00, 53.48it/s, loss=0.912]\n",
      "Epoch 3: val: 100%|██████████| 313/313 [00:05<00:00, 58.51it/s, loss=0.939]\n",
      "Epoch 4: train: 100%|██████████| 1250/1250 [00:23<00:00, 53.20it/s, loss=0.852]\n",
      "Epoch 4: val: 100%|██████████| 313/313 [00:05<00:00, 58.60it/s, loss=0.933]\n",
      "Epoch 5: train: 100%|██████████| 1250/1250 [00:23<00:00, 53.54it/s, loss=0.849]\n",
      "Epoch 5: val: 100%|██████████| 313/313 [00:05<00:00, 58.24it/s, loss=0.935]\n",
      "Epoch 6: train: 100%|██████████| 1250/1250 [00:23<00:00, 53.23it/s, loss=0.845]\n",
      "Epoch 6: val: 100%|██████████| 313/313 [00:05<00:00, 57.94it/s, loss=0.95] \n",
      "Epoch 7: train: 100%|██████████| 1250/1250 [00:23<00:00, 53.44it/s, loss=0.82] \n",
      "Epoch 7: val: 100%|██████████| 313/313 [00:05<00:00, 57.99it/s, loss=0.924]\n",
      "Epoch 8: train: 100%|██████████| 1250/1250 [00:23<00:00, 53.26it/s, loss=0.815]\n",
      "Epoch 8: val: 100%|██████████| 313/313 [00:05<00:00, 59.01it/s, loss=0.925]\n",
      "Epoch 9: train: 100%|██████████| 1250/1250 [00:23<00:00, 53.35it/s, loss=0.812]\n",
      "Epoch 9: val: 100%|██████████| 313/313 [00:05<00:00, 58.75it/s, loss=0.946]\n",
      "Epoch 10: train: 100%|██████████| 1250/1250 [00:23<00:00, 53.36it/s, loss=0.799]\n",
      "Epoch 10: val: 100%|██████████| 313/313 [00:05<00:00, 58.18it/s, loss=0.929]\n",
      "Epoch 11: train: 100%|██████████| 1250/1250 [00:23<00:00, 53.41it/s, loss=0.795]\n",
      "Epoch 11: val: 100%|██████████| 313/313 [00:05<00:00, 58.01it/s, loss=0.947]\n",
      "Epoch 12: train: 100%|██████████| 1250/1250 [00:23<00:00, 53.23it/s, loss=0.794]\n",
      "Epoch 12: val: 100%|██████████| 313/313 [00:05<00:00, 58.69it/s, loss=0.932]\n",
      "Epoch 13: train: 100%|██████████| 1250/1250 [00:23<00:00, 53.17it/s, loss=0.786]\n",
      "Epoch 13: val: 100%|██████████| 313/313 [00:05<00:00, 57.56it/s, loss=0.933]\n",
      "Epoch 14: train: 100%|██████████| 1250/1250 [00:23<00:00, 53.46it/s, loss=0.785]\n",
      "Epoch 14: val: 100%|██████████| 313/313 [00:05<00:00, 58.06it/s, loss=0.932]\n",
      "Epoch 15: train: 100%|██████████| 1250/1250 [00:23<00:00, 53.76it/s, loss=0.784]\n",
      "Epoch 15: val: 100%|██████████| 313/313 [00:05<00:00, 58.71it/s, loss=0.935]\n",
      "Epoch 16: train: 100%|██████████| 1250/1250 [00:23<00:00, 53.75it/s, loss=0.78] \n",
      "Epoch 16: val: 100%|██████████| 313/313 [00:05<00:00, 58.08it/s, loss=0.935]\n",
      "Epoch 17: train: 100%|██████████| 1250/1250 [00:23<00:00, 53.30it/s, loss=0.779]\n",
      "Epoch 17: val: 100%|██████████| 313/313 [00:05<00:00, 58.54it/s, loss=0.935]\n",
      "Epoch 18: train: 100%|██████████| 1250/1250 [00:23<00:00, 53.26it/s, loss=0.779]\n",
      "Epoch 18: val: 100%|██████████| 313/313 [00:05<00:00, 58.30it/s, loss=0.935]\n",
      "Epoch 19: train: 100%|██████████| 1250/1250 [00:23<00:00, 53.13it/s, loss=0.778]\n",
      "Epoch 19: val: 100%|██████████| 313/313 [00:05<00:00, 58.04it/s, loss=0.937]\n",
      "Epoch 20: train: 100%|██████████| 1250/1250 [00:23<00:00, 53.31it/s, loss=0.777]\n",
      "Epoch 20: val: 100%|██████████| 313/313 [00:05<00:00, 58.80it/s, loss=0.936]\n"
     ]
    }
   ],
   "source": [
    "model = RecommendationSys(vocab, input_dim, hidden_dim, output_dim, size_user, size_movie, embed_size).to(device)\n",
    "\n",
    "if start_epoch != 1: # Continue the existing training\n",
    "    model = torch.load(model_path)\n",
    "\n",
    "print(sum(p.numel() for p in model.parameters())/1e3, 'k parameters', sep='')\n",
    "\n",
    "optimizer = optim.Adam(model.parameters(), lr=lr)\n",
    "criterion = nn.MSELoss()\n",
    "scheduler = optim.lr_scheduler.StepLR(optimizer, step_size=3, gamma=0.4)\n",
    "\n",
    "loss_train, loss_val = train(\n",
    "    model, \n",
    "    train_dataloader, \n",
    "    val_dataloader, \n",
    "    optimizer=optimizer, \n",
    "    criterion=criterion, \n",
    "    scheduler=scheduler,\n",
    "    start_epoch=start_epoch,\n",
    "    epochs=epochs, \n",
    "    lr=lr, \n",
    "    model_path=model_path\n",
    ")"
   ]
  },
  {
   "cell_type": "markdown",
   "id": "6e71e69e-fb40-4738-b4e7-bffd44a56713",
   "metadata": {},
   "source": [
    "# Plot loss"
   ]
  },
  {
   "cell_type": "code",
   "execution_count": 88,
   "id": "ca8b0e7d-9086-4eb6-8469-5cf09f0fe3a5",
   "metadata": {},
   "outputs": [
    {
     "data": {
      "image/png": "[encoded data removed]",
      "text/plain": [
       "<Figure size 640x480 with 1 Axes>"
      ]
     },
     "metadata": {},
     "output_type": "display_data"
    }
   ],
   "source": [
    "import matplotlib.pyplot as plt\n",
    "\n",
    "plt.plot(range(1, epochs + 1), loss_train, label='Training loss')\n",
    "plt.plot(range(1, epochs + 1), loss_val, label='Validation loss')\n",
    "\n",
    "plt.title('Training and Validation Loss')\n",
    "plt.xlabel('Epochs')\n",
    "plt.ylabel('Loss')\n",
    "\n",
    "plt.legend(loc='best')\n",
    "plt.show()"
   ]
  },
  {
   "cell_type": "markdown",
   "id": "6f64ff4d-bc1c-4c7d-b69d-0bd12f6cd00d",
   "metadata": {},
   "source": [
    "# Let's evaluate model"
   ]
  },
  {
   "cell_type": "code",
   "execution_count": 120,
   "id": "fb0772f9-5d5f-4ac1-8ffd-ff2adc620229",
   "metadata": {},
   "outputs": [],
   "source": [
    "from benchmark.evaluate import evaluate"
   ]
  },
  {
   "cell_type": "code",
   "execution_count": 124,
   "id": "c028cfa8-cac7-41f7-b133-76d90ce5f384",
   "metadata": {},
   "outputs": [],
   "source": [
    "from tqdm import tqdm\n",
    "\n",
    "def evaluate(model, data, user_data, movie_data, device=torch.device(\"cpu\")):\n",
    "    mseLoss = 0.0\n",
    "    for _row in tqdm(data.iterrows()):\n",
    "        row = _row[1]\n",
    "        row = preprocess(row, user_data, movie_data, model.vocab)\n",
    "        row = one_hot(row.loc[0], model.vocab)\n",
    "        model_input, target = _preprocess(row.loc[0], device=device)\n",
    "        model_input, target = model_input.reshape(1, -1), target\n",
    "        res = model(model_input)\n",
    "        mseLoss += (res.item() - target.item())**2\n",
    "    \n",
    "    mseLoss /= len(data)\n",
    "    return mseLoss"
   ]
  },
  {
   "cell_type": "code",
   "execution_count": 125,
   "id": "8f83c585-2c89-4bb1-b303-48b4c88c6f89",
   "metadata": {},
   "outputs": [
    {
     "name": "stderr",
     "output_type": "stream",
     "text": [
      "100000it [05:18, 313.76it/s]\n"
     ]
    },
    {
     "data": {
      "text/plain": [
       "0.8289415148454666"
      ]
     },
     "execution_count": 125,
     "metadata": {},
     "output_type": "execute_result"
    }
   ],
   "source": [
    "evaluate(best_model, data, user_data, movie_data, device=device)"
   ]
  },
  {
   "cell_type": "markdown",
   "id": "ac74db1e-a499-4ebf-8c27-b2ff374a0cf5",
   "metadata": {},
   "source": [
    "# Let's check on example the performance of model"
   ]
  },
  {
   "cell_type": "code",
   "execution_count": 160,
   "id": "da4ede8f-22b3-4fce-bd0a-cc75fe3322e9",
   "metadata": {},
   "outputs": [],
   "source": [
    "import random\n",
    "    \n",
    "\n",
    "def combine(movie_id, user_id, movie_data, user_data):\n",
    "    columns = []\n",
    "\n",
    "    user_row = user_data.loc[user_id - 1] # index start 0\n",
    "    movie_row = movie_data.loc[movie_id - 1]\n",
    "    skip_mov = [\"movie title\", \"release date\", \"video release date\", \"IMDb URL\", \"zip_code\"]\n",
    "\n",
    "    assert user_row['user_id'] == user_id, \"user id must be the same, but found\"\n",
    "    assert movie_row['movie id'] == movie_id, \"movie id must be the same\"\n",
    "\n",
    "    src_row = []\n",
    "    for col in user_row.index.tolist():\n",
    "        if col in skip_mov:\n",
    "            continue\n",
    "        columns.append(col)\n",
    "        src_row.append(user_row[col])\n",
    "\n",
    "    for col in movie_row.index.tolist():\n",
    "        if col in skip_mov:\n",
    "            continue\n",
    "        columns.append(col)\n",
    "        src_row.append(movie_row[col])\n",
    "    \n",
    "    res = pd.DataFrame([src_row], columns=columns)\n",
    "    return res\n",
    "\n",
    "def predict(model, data, ids, movie_data, user_data, top_k=5):\n",
    "    model.eval()\n",
    "    n_movie = len(movie_data)\n",
    "    n_user = len(user_data)\n",
    "    watched = []\n",
    "    not_watched = []\n",
    "    res_not_watched = []\n",
    "    res_watched = []\n",
    "    for i in range(len(data)):\n",
    "        if data['user_id'][i] == ids:\n",
    "            watched.append(data['item_id'][i])\n",
    "            res_watched.append((data['rating'][i] * 1.0, movie_data['movie title'][watched[-1] - 1]))\n",
    "    \n",
    "    watched.sort()\n",
    "    j = 0\n",
    "    for i in range(1, n_movie + 1):\n",
    "        while j < len(watched) and watched[j] < i:\n",
    "            j += 1\n",
    "        \n",
    "        if j < len(watched) and watched[j] == i:\n",
    "            continue\n",
    "        not_watched.append(i)\n",
    "        \n",
    "    for mov in not_watched:\n",
    "        row = combine(mov, ids + 1, movie_data, user_data)\n",
    "        row = one_hot(row.loc[0], model.vocab)\n",
    "        row['rating'] = -1\n",
    "        model_input, target = _preprocess(row.loc[0], device=device)\n",
    "        model_input, target = model_input.reshape(1, -1), target\n",
    "        res = model(model_input)\n",
    "        res_not_watched.append((res.item(), movie_data['movie title'][mov - 1]))\n",
    "    \n",
    "    res_watched.sort(reverse=True)\n",
    "    res_not_watched.sort(reverse=True)\n",
    "    \n",
    "    print(f\"Rated by user {ids}\")\n",
    "    for i in range(top_k):\n",
    "        print(\"name: \" + res_watched[i][1], \"rating:\", res_watched[i][0]) \n",
    "    print(f\"Predicted for user {ids}\")\n",
    "    for i in range(top_k):\n",
    "        print(\"name: \" + res_not_watched[i][1], \"rating:\", res_not_watched[i][0]) \n",
    "\n",
    "    \n",
    "def rand_predict(model, data, movie_data, user_data, n=1):\n",
    "    Len = len(data)\n",
    "    for _ in range(n):\n",
    "        i = random.randint(0, len(user_data) - 1)\n",
    "        row = data.loc[i]\n",
    "        predict(model, data, i, movie_data, user_data)"
   ]
  },
  {
   "cell_type": "code",
   "execution_count": 163,
   "id": "f159ccae-a15b-47e5-8248-3842a7236674",
   "metadata": {},
   "outputs": [
    {
     "name": "stdout",
     "output_type": "stream",
     "text": [
      "Rated by user 265\n",
      "name: Toy Story (1995) rating: 5.0\n",
      "name: Time to Kill, A (1996) rating: 5.0\n",
      "name: Saint, The (1997) rating: 5.0\n",
      "name: Rock, The (1996) rating: 5.0\n",
      "name: Ransom (1996) rating: 5.0\n",
      "Predicted for user 265\n",
      "name: Pather Panchali (1955) rating: 4.568941593170166\n",
      "name: Eat Drink Man Woman (1994) rating: 4.4969072341918945\n",
      "name: Saint of Fort Washington, The (1993) rating: 4.367392063140869\n",
      "name: Wrong Trousers, The (1993) rating: 4.349699974060059\n",
      "name: Spanish Prisoner, The (1997) rating: 4.346738338470459\n"
     ]
    }
   ],
   "source": [
    "best_model = torch.load(model_path)\n",
    "rand_predict(model, data, movie_data, user_data)"
   ]
  }
 ],
 "metadata": {
  "kernelspec": {
   "display_name": "Python 3 (ipykernel)",
   "language": "python",
   "name": "python3"
  },
  "language_info": {
   "codemirror_mode": {
    "name": "ipython",
    "version": 3
   },
   "file_extension": ".py",
   "mimetype": "text/x-python",
   "name": "python",
   "nbconvert_exporter": "python",
   "pygments_lexer": "ipython3",
   "version": "3.9.16"
  }
 },
 "nbformat": 4,
 "nbformat_minor": 5
}
